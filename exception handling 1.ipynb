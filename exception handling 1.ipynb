{
 "cells": [
  {
   "cell_type": "markdown",
   "id": "eea90c43-e25b-4531-9945-c08910dec510",
   "metadata": {},
   "source": [
    "ques1_what is an exception in python?write the difference between exception and systax errors."
   ]
  },
  {
   "cell_type": "code",
   "execution_count": 3,
   "id": "da08a477-54c2-49f3-b858-fc06dad5780e",
   "metadata": {},
   "outputs": [
    {
     "ename": "SyntaxError",
     "evalue": "unmatched ')' (3299947311.py, line 8)",
     "output_type": "error",
     "traceback": [
      "\u001b[0;36m  Cell \u001b[0;32mIn[3], line 8\u001b[0;36m\u001b[0m\n\u001b[0;31m    print(pwskills))\u001b[0m\n\u001b[0m                   ^\u001b[0m\n\u001b[0;31mSyntaxError\u001b[0m\u001b[0;31m:\u001b[0m unmatched ')'\n"
     ]
    }
   ],
   "source": [
    "#an exception is an error that occurs during the execution of a program.\n",
    "#an syntax error occurs whent the structure of a program does not conform to the rules of the programming language , whereas an exception error are usually caused by runtime errors such as dividing by zero trying to access in code which is called zerodivision error.\n",
    "#example\n",
    "\n",
    "#exmple of syntax error\n",
    "\n",
    "pwskills = \"this is a string.\"\n",
    "print(pwskills))"
   ]
  },
  {
   "cell_type": "code",
   "execution_count": 4,
   "id": "7274534b-faaf-4225-abad-82560d65a6fa",
   "metadata": {},
   "outputs": [
    {
     "ename": "ZeroDivisionError",
     "evalue": "division by zero",
     "output_type": "error",
     "traceback": [
      "\u001b[0;31m---------------------------------------------------------------------------\u001b[0m",
      "\u001b[0;31mZeroDivisionError\u001b[0m                         Traceback (most recent call last)",
      "Cell \u001b[0;32mIn[4], line 4\u001b[0m\n\u001b[1;32m      1\u001b[0m \u001b[38;5;66;03m#example of exception error\u001b[39;00m\n\u001b[1;32m      3\u001b[0m a \u001b[38;5;241m=\u001b[39m \u001b[38;5;241m10\u001b[39m \n\u001b[0;32m----> 4\u001b[0m \u001b[38;5;28mprint\u001b[39m(\u001b[43ma\u001b[49m\u001b[38;5;241;43m/\u001b[39;49m\u001b[38;5;241;43m0\u001b[39;49m)\n",
      "\u001b[0;31mZeroDivisionError\u001b[0m: division by zero"
     ]
    }
   ],
   "source": [
    "#example of exception error\n",
    "\n",
    "a = 10 \n",
    "print(a/0)"
   ]
  },
  {
   "cell_type": "markdown",
   "id": "e42b963c-1f7c-4e3c-b686-45cfb09db49d",
   "metadata": {},
   "source": [
    "ques2_what happens when an exception is not handled? expalin with an example"
   ]
  },
  {
   "cell_type": "code",
   "execution_count": 8,
   "id": "0de28d9e-c9a0-48d5-8ad8-9e405d8f63e9",
   "metadata": {},
   "outputs": [
    {
     "name": "stdout",
     "output_type": "stream",
     "text": [
      "some error occured.\n",
      "out of try except blocks.\n"
     ]
    }
   ],
   "source": [
    "#if the type of exception does not match any of the except blocks it will remain unhandled and the program will terminate\n",
    "\n",
    "try:\n",
    "    a = 5\n",
    "    b = 0\n",
    "    print(a/b)\n",
    "except :\n",
    "    print('some error occured.')\n",
    "print(\"out of try except blocks.\")"
   ]
  },
  {
   "cell_type": "markdown",
   "id": "ec325267-7bab-4b14-b13f-b2e26ea5445a",
   "metadata": {},
   "source": [
    "ques3_which python statements are used to catch and handle exceptions?explain with an example."
   ]
  },
  {
   "cell_type": "code",
   "execution_count": 9,
   "id": "8f3a174b-bcea-4fd6-b8f7-3830c0227468",
   "metadata": {},
   "outputs": [
    {
     "name": "stdout",
     "output_type": "stream",
     "text": [
      "somethig error\n"
     ]
    }
   ],
   "source": [
    "#the try and except block in python used to catch and handle exceptions\n",
    "\n",
    "try :\n",
    "    f = open(\"test.txt\" , \"r\")\n",
    "    f.write(\"write into my family\")\n",
    "except Exception as e:\n",
    "    print(\"somethig error\")"
   ]
  },
  {
   "cell_type": "markdown",
   "id": "c562dbe3-d646-42d1-8651-6763c8a3c18e",
   "metadata": {},
   "source": [
    "ques4_explain with example: try and else , finally , raise"
   ]
  },
  {
   "cell_type": "code",
   "execution_count": 11,
   "id": "174dd784-8763-4244-8bb1-13a9d5d1256e",
   "metadata": {},
   "outputs": [
    {
     "name": "stdout",
     "output_type": "stream",
     "text": [
      "else there is no error to execute the code\n"
     ]
    }
   ],
   "source": [
    "#try and else : the try block test a block ofcode for errors and the else block execute the code when there is no error\n",
    "\n",
    "try :\n",
    "    f = open(\"test1.txt\" , \"w\")\n",
    "    f.write(\"in this file we write all the details of the data science masters course\")\n",
    "except Exception as e:\n",
    "    print(\"if there is any error to execute the program then print this line\")\n",
    "else :\n",
    "    f.close()\n",
    "    print(\"else there is no error to execute the code\")"
   ]
  },
  {
   "cell_type": "code",
   "execution_count": 12,
   "id": "37e502f4-a46a-4b61-bbdd-945c2c613bff",
   "metadata": {},
   "outputs": [
    {
     "name": "stdout",
     "output_type": "stream",
     "text": [
      "if there is any error to execute the program then print this line\n"
     ]
    }
   ],
   "source": [
    "try :\n",
    "    f = open(\"test2.txt\" , \"r\")\n",
    "    f.write(\"in this file we write all the details of the data science masters course\")\n",
    "except Exception as e:\n",
    "    print(\"if there is any error to execute the program then print this line\")\n",
    "else :\n",
    "    f.close()\n",
    "    print(\"else there is no error to execute the code\")"
   ]
  },
  {
   "cell_type": "code",
   "execution_count": 13,
   "id": "ce7968dc-0d2f-421b-ac01-652db520d17e",
   "metadata": {},
   "outputs": [
    {
     "name": "stdout",
     "output_type": "stream",
     "text": [
      "finally it will execute in any situation\n"
     ]
    }
   ],
   "source": [
    "#finally : always execute after leaving the try statement\n",
    "\n",
    "try :\n",
    "    f = open(\"file.txt\" , \"w\")\n",
    "    f.write(\"write something\")\n",
    "finally:\n",
    "    print(\"finally it will execute in any situation\")"
   ]
  },
  {
   "cell_type": "code",
   "execution_count": 15,
   "id": "63cbb0c5-21d0-4258-a83a-995bd06bc662",
   "metadata": {},
   "outputs": [
    {
     "name": "stdout",
     "output_type": "stream",
     "text": [
      "finally it will execute in any situation\n"
     ]
    },
    {
     "ename": "UnsupportedOperation",
     "evalue": "not writable",
     "output_type": "error",
     "traceback": [
      "\u001b[0;31m---------------------------------------------------------------------------\u001b[0m",
      "\u001b[0;31mUnsupportedOperation\u001b[0m                      Traceback (most recent call last)",
      "Cell \u001b[0;32mIn[15], line 3\u001b[0m\n\u001b[1;32m      1\u001b[0m \u001b[38;5;28;01mtry\u001b[39;00m :\n\u001b[1;32m      2\u001b[0m     f \u001b[38;5;241m=\u001b[39m \u001b[38;5;28mopen\u001b[39m(\u001b[38;5;124m\"\u001b[39m\u001b[38;5;124mfile.txt\u001b[39m\u001b[38;5;124m\"\u001b[39m , \u001b[38;5;124m\"\u001b[39m\u001b[38;5;124mr\u001b[39m\u001b[38;5;124m\"\u001b[39m)\n\u001b[0;32m----> 3\u001b[0m     \u001b[43mf\u001b[49m\u001b[38;5;241;43m.\u001b[39;49m\u001b[43mwrite\u001b[49m\u001b[43m(\u001b[49m\u001b[38;5;124;43m\"\u001b[39;49m\u001b[38;5;124;43mwrite something\u001b[39;49m\u001b[38;5;124;43m\"\u001b[39;49m\u001b[43m)\u001b[49m\n\u001b[1;32m      4\u001b[0m \u001b[38;5;28;01mfinally\u001b[39;00m:\n\u001b[1;32m      5\u001b[0m     \u001b[38;5;28mprint\u001b[39m(\u001b[38;5;124m\"\u001b[39m\u001b[38;5;124mfinally it will execute in any situation\u001b[39m\u001b[38;5;124m\"\u001b[39m)\n",
      "\u001b[0;31mUnsupportedOperation\u001b[0m: not writable"
     ]
    }
   ],
   "source": [
    "try :\n",
    "    f = open(\"file.txt\" , \"r\")\n",
    "    f.write(\"write something\")\n",
    "finally:\n",
    "    print(\"finally it will execute in any situation\")"
   ]
  },
  {
   "cell_type": "code",
   "execution_count": 16,
   "id": "d42b0104-3607-4f50-b622-e9b4333c3f2f",
   "metadata": {},
   "outputs": [],
   "source": [
    "#raise : allows to throw an exception at any time\n",
    "\n",
    "class bankdetails(Exception):\n",
    "    \n",
    "    def __init__(self , amount):\n",
    "        self.amount = amount"
   ]
  },
  {
   "cell_type": "code",
   "execution_count": 17,
   "id": "989f59eb-f91d-4400-bed2-08a0d8aca6f1",
   "metadata": {},
   "outputs": [],
   "source": [
    "def bank_details(money):\n",
    "    if money < 0 :\n",
    "        raise bankdetails(\"please enter valid amount\")\n",
    "    elif money > 10000:\n",
    "        raise bankdetails(\"sorry this amount is not available in your account\")\n",
    "    else :\n",
    "        print(\"yes available in your account\")\n",
    "    "
   ]
  },
  {
   "cell_type": "code",
   "execution_count": 18,
   "id": "9270c357-6ce2-482e-847c-7b9d9f980937",
   "metadata": {},
   "outputs": [
    {
     "name": "stdin",
     "output_type": "stream",
     "text": [
      "enter your money -447\n"
     ]
    },
    {
     "name": "stdout",
     "output_type": "stream",
     "text": [
      "please enter valid amount\n"
     ]
    }
   ],
   "source": [
    "try :\n",
    "    money = int(input(\"enter your money\"))\n",
    "    bank_details(money)\n",
    "except bankdetails as e :\n",
    "    print(e)"
   ]
  },
  {
   "cell_type": "code",
   "execution_count": 19,
   "id": "b2243fb6-198f-4b02-8d99-149c0f5ea5a2",
   "metadata": {},
   "outputs": [
    {
     "name": "stdin",
     "output_type": "stream",
     "text": [
      "enter your money 25000\n"
     ]
    },
    {
     "name": "stdout",
     "output_type": "stream",
     "text": [
      "sorry this amount is not available in your account\n"
     ]
    }
   ],
   "source": [
    "try :\n",
    "    money = int(input(\"enter your money\"))\n",
    "    bank_details(money)\n",
    "except bankdetails as e :\n",
    "    print(e)"
   ]
  },
  {
   "cell_type": "code",
   "execution_count": 21,
   "id": "33450b7a-9067-4791-8ca7-4abcce506b0a",
   "metadata": {},
   "outputs": [
    {
     "name": "stdin",
     "output_type": "stream",
     "text": [
      "enter your money 5500\n"
     ]
    },
    {
     "name": "stdout",
     "output_type": "stream",
     "text": [
      "yes available in your account\n"
     ]
    }
   ],
   "source": [
    "try :\n",
    "    money = int(input(\"enter your money\"))\n",
    "    bank_details(money)\n",
    "except bankdetails as e :\n",
    "    print(e)"
   ]
  },
  {
   "cell_type": "raw",
   "id": "3466ba03-d5eb-4100-997a-ffd1d864ceed",
   "metadata": {},
   "source": [
    "ques5_what are custom exception in python?why do we need custom exception?explain with an example"
   ]
  },
  {
   "cell_type": "code",
   "execution_count": 22,
   "id": "e598dd77-e0e1-4ead-8d12-8b081cdc70f7",
   "metadata": {},
   "outputs": [],
   "source": [
    "#custom exception : regular clasees that inherit from the exception class\n",
    "#uses of custom exception :useful in situations where we want to handle specific errors in a program"
   ]
  },
  {
   "cell_type": "code",
   "execution_count": 24,
   "id": "1c9f3508-701e-4afc-bc16-579bdd9b457d",
   "metadata": {},
   "outputs": [],
   "source": [
    "class result(Exception):\n",
    "    \n",
    "    def __init__(self , marks):\n",
    "        self.marks = marks"
   ]
  },
  {
   "cell_type": "code",
   "execution_count": 40,
   "id": "31ca1c88-ca97-4fff-81c2-acf13abe3a94",
   "metadata": {},
   "outputs": [],
   "source": [
    "def result_details(marks):\n",
    "    if marks < 0 :\n",
    "        raise result(\"it is not valid marks\")\n",
    "    elif marks < 35 :\n",
    "        raise result(\"you are pass\")\n",
    "    else :\n",
    "        print(\"congratulations for your highest marks\")\n",
    "    "
   ]
  },
  {
   "cell_type": "code",
   "execution_count": 41,
   "id": "ce6a6de1-f6c6-460e-9c2b-f606b55898cc",
   "metadata": {},
   "outputs": [
    {
     "name": "stdin",
     "output_type": "stream",
     "text": [
      "enter your marks -78\n"
     ]
    },
    {
     "name": "stdout",
     "output_type": "stream",
     "text": [
      "it is not valid marks\n"
     ]
    }
   ],
   "source": [
    "try :\n",
    "    marks = int(input(\"enter your marks\"))\n",
    "    result_details(marks)\n",
    "except result as e:\n",
    "    print(e)"
   ]
  },
  {
   "cell_type": "code",
   "execution_count": 42,
   "id": "a0f77633-abf4-4690-a256-e113490e928f",
   "metadata": {},
   "outputs": [
    {
     "name": "stdin",
     "output_type": "stream",
     "text": [
      "enter your marks 30\n"
     ]
    },
    {
     "name": "stdout",
     "output_type": "stream",
     "text": [
      "you are pass\n"
     ]
    }
   ],
   "source": [
    "try :\n",
    "    marks = int(input(\"enter your marks\"))\n",
    "    result_details(marks)\n",
    "except result as e:\n",
    "    print(e)"
   ]
  },
  {
   "cell_type": "code",
   "execution_count": 43,
   "id": "4b14e9d2-982f-4942-96c5-65491862a4cf",
   "metadata": {},
   "outputs": [
    {
     "name": "stdin",
     "output_type": "stream",
     "text": [
      "enter your marks 75\n"
     ]
    },
    {
     "name": "stdout",
     "output_type": "stream",
     "text": [
      "congratulations for your highest marks\n"
     ]
    }
   ],
   "source": [
    "try :\n",
    "    marks = int(input(\"enter your marks\"))\n",
    "    result_details(marks)\n",
    "except result as e:\n",
    "    print(e)"
   ]
  },
  {
   "cell_type": "markdown",
   "id": "653970d7-dc8c-4124-9101-76cf2d9aff4a",
   "metadata": {},
   "source": [
    "ques6_create a custom exception in python. use this class to handle an example"
   ]
  },
  {
   "cell_type": "code",
   "execution_count": 44,
   "id": "fed3aaa5-9c1a-4ec5-9510-95850f4e0982",
   "metadata": {},
   "outputs": [],
   "source": [
    "class validateage(Exception):\n",
    "    \n",
    "    def __init__(self , msg):\n",
    "        self.msg = msg"
   ]
  },
  {
   "cell_type": "code",
   "execution_count": 45,
   "id": "e043efe1-794b-4fee-a5be-2e7f9dbbb7a9",
   "metadata": {},
   "outputs": [],
   "source": [
    "def validaetage(age):\n",
    "    if age < 0 :\n",
    "        raise validateage(\"entered age is negative\")\n",
    "    elif age > 200 :\n",
    "        raise validateage(\"entered age is very very high\")\n",
    "    else :\n",
    "        print(\"age is valid\")"
   ]
  },
  {
   "cell_type": "code",
   "execution_count": 46,
   "id": "6f6edcda-dfe8-4d9c-9683-72b637996f94",
   "metadata": {},
   "outputs": [
    {
     "name": "stdin",
     "output_type": "stream",
     "text": [
      "enter your marks -56\n"
     ]
    },
    {
     "name": "stdout",
     "output_type": "stream",
     "text": [
      "entered age is negative\n"
     ]
    }
   ],
   "source": [
    "try :\n",
    "    age = int(input(\"enter your marks\"))\n",
    "    validaetage(age)\n",
    "except validateage as e :\n",
    "    print(e)"
   ]
  },
  {
   "cell_type": "code",
   "execution_count": 47,
   "id": "827a3079-2105-44c8-b987-ee1807b6f343",
   "metadata": {},
   "outputs": [
    {
     "name": "stdin",
     "output_type": "stream",
     "text": [
      "enter your marks 300\n"
     ]
    },
    {
     "name": "stdout",
     "output_type": "stream",
     "text": [
      "entered age is very very high\n"
     ]
    }
   ],
   "source": [
    "try :\n",
    "    age = int(input(\"enter your marks\"))\n",
    "    validaetage(age)\n",
    "except validateage as e :\n",
    "    print(e)"
   ]
  },
  {
   "cell_type": "code",
   "execution_count": 48,
   "id": "229d3fd4-06a8-4e95-9da0-290af636b5c8",
   "metadata": {},
   "outputs": [
    {
     "name": "stdin",
     "output_type": "stream",
     "text": [
      "enter your marks 70\n"
     ]
    },
    {
     "name": "stdout",
     "output_type": "stream",
     "text": [
      "age is valid\n"
     ]
    }
   ],
   "source": [
    "try :\n",
    "    age = int(input(\"enter your marks\"))\n",
    "    validaetage(age)\n",
    "except validateage as e :\n",
    "    print(e)"
   ]
  },
  {
   "cell_type": "code",
   "execution_count": null,
   "id": "0a44a429-1659-4348-9da6-9eae11d92059",
   "metadata": {},
   "outputs": [],
   "source": []
  }
 ],
 "metadata": {
  "kernelspec": {
   "display_name": "Python 3 (ipykernel)",
   "language": "python",
   "name": "python3"
  },
  "language_info": {
   "codemirror_mode": {
    "name": "ipython",
    "version": 3
   },
   "file_extension": ".py",
   "mimetype": "text/x-python",
   "name": "python",
   "nbconvert_exporter": "python",
   "pygments_lexer": "ipython3",
   "version": "3.10.8"
  }
 },
 "nbformat": 4,
 "nbformat_minor": 5
}
